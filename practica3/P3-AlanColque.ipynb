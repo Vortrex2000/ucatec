{
  "nbformat": 4,
  "nbformat_minor": 0,
  "metadata": {
    "colab": {
      "provenance": []
    },
    "kernelspec": {
      "name": "python3",
      "display_name": "Python 3"
    },
    "language_info": {
      "name": "python"
    }
  },
  "cells": [
    {
      "cell_type": "markdown",
      "source": [
        "#Introducción a NLP con Python y NLTK\n",
        "\n",
        "---"
      ],
      "metadata": {
        "id": "ArLYRC8QB_q7"
      }
    },
    {
      "cell_type": "markdown",
      "source": [
        "## 1. Familiarización básica con Python\n",
        "Antes de trabajar con corpus o NLP, los estudiantes deben estar cómodos con conceptos básicos de Python."
      ],
      "metadata": {
        "id": "kiWzlc_oQjPx"
      }
    },
    {
      "cell_type": "markdown",
      "source": [
        "### Ejercicios:\n",
        "1. Escribir un script que cuente el número de palabras en un texto simple."
      ],
      "metadata": {
        "id": "llDWmyf6CZj5"
      }
    },
    {
      "cell_type": "code",
      "execution_count": 2,
      "metadata": {
        "colab": {
          "base_uri": "https://localhost:8080/"
        },
        "id": "kUGc9uJ1Boy7",
        "outputId": "7af12400-84e0-4f57-c42e-f81eef53afbe"
      },
      "outputs": [
        {
          "output_type": "stream",
          "name": "stdout",
          "text": [
            "[Indicador] Numero de palabras: 2\n"
          ]
        }
      ],
      "source": [
        "texto = \"Hola mundo\"\n",
        "num_palabras = len(texto.split())\n",
        "print(f\"[Indicador] Numero de palabras: {num_palabras}\")"
      ]
    },
    {
      "cell_type": "markdown",
      "source": [
        "2. Manipular cadenas: convertir texto a minúsculas, eliminar signos de puntuación."
      ],
      "metadata": {
        "id": "8Vcrwv_MDGv3"
      }
    },
    {
      "cell_type": "code",
      "source": [
        "import string\n",
        "texto = \"Hola!!! PERDON por gritar\"\n",
        "texto_limpio = texto.lower().translate(str.maketrans('', '', string.punctuation))\n",
        "print(f\"[Indicador] Texto limpio: {texto_limpio}\")"
      ],
      "metadata": {
        "colab": {
          "base_uri": "https://localhost:8080/"
        },
        "id": "GllfDgN7DLhO",
        "outputId": "0c96bdfc-13dc-422b-90d3-4766a8027860"
      },
      "execution_count": 4,
      "outputs": [
        {
          "output_type": "stream",
          "name": "stdout",
          "text": [
            "[Indicador] Texto limpio: hola perdon por gritar\n"
          ]
        }
      ]
    },
    {
      "cell_type": "markdown",
      "source": [
        "3. Usar estructuras de datos básicas como listas y diccionarios para almacenar palabras y sus frecuencias."
      ],
      "metadata": {
        "id": "6eiqGpNLQFP5"
      }
    },
    {
      "cell_type": "code",
      "source": [
        "from collections import Counter\n",
        "\n",
        "texto = \"El procesamiento de lenguaje natural es interesante y útil.\"\n",
        "palabras = texto.split()\n",
        "frecuencias = Counter(palabras)\n",
        "print(\"Frecuencias de palabras:\", dict(frecuencias))\n"
      ],
      "metadata": {
        "colab": {
          "base_uri": "https://localhost:8080/"
        },
        "id": "e_-ewWWlQYlS",
        "outputId": "ce460683-ec5a-4038-8267-dd3021b1dccc"
      },
      "execution_count": 35,
      "outputs": [
        {
          "output_type": "stream",
          "name": "stdout",
          "text": [
            "Frecuencias de palabras: {'El': 1, 'procesamiento': 1, 'de': 1, 'lenguaje': 1, 'natural': 1, 'es': 1, 'interesante': 1, 'y': 1, 'útil.': 1}\n"
          ]
        }
      ]
    },
    {
      "cell_type": "markdown",
      "source": [
        "---"
      ],
      "metadata": {
        "id": "DhiPtSW1D6yJ"
      }
    },
    {
      "cell_type": "markdown",
      "source": [
        "## 2. Introducción a NLTK\n",
        "Familiarizarse con la biblioteca **NLTK** y su instalación."
      ],
      "metadata": {
        "id": "KRWvSb8LD9hX"
      }
    },
    {
      "cell_type": "markdown",
      "source": [
        "### Actividad:\n",
        "1. Instalar **NLTK** en Google Colab:\n",
        "\n",
        "  ```python"
      ],
      "metadata": {
        "id": "093GrHh3ERq4"
      }
    },
    {
      "cell_type": "code",
      "source": [
        "!pip install nltk\n",
        "import nltk\n",
        "nltk.download('punkt')"
      ],
      "metadata": {
        "colab": {
          "base_uri": "https://localhost:8080/"
        },
        "id": "rUuPp3v2D-cC",
        "outputId": "821bd5fb-9d42-45c9-f3c4-4b4d326498b9"
      },
      "execution_count": 15,
      "outputs": [
        {
          "output_type": "stream",
          "name": "stdout",
          "text": [
            "Requirement already satisfied: nltk in /usr/local/lib/python3.10/dist-packages (3.9.1)\n",
            "Requirement already satisfied: click in /usr/local/lib/python3.10/dist-packages (from nltk) (8.1.7)\n",
            "Requirement already satisfied: joblib in /usr/local/lib/python3.10/dist-packages (from nltk) (1.4.2)\n",
            "Requirement already satisfied: regex>=2021.8.3 in /usr/local/lib/python3.10/dist-packages (from nltk) (2024.9.11)\n",
            "Requirement already satisfied: tqdm in /usr/local/lib/python3.10/dist-packages (from nltk) (4.66.6)\n"
          ]
        },
        {
          "output_type": "stream",
          "name": "stderr",
          "text": [
            "[nltk_data] Downloading package punkt to /root/nltk_data...\n",
            "[nltk_data]   Package punkt is already up-to-date!\n"
          ]
        },
        {
          "output_type": "execute_result",
          "data": {
            "text/plain": [
              "True"
            ]
          },
          "metadata": {},
          "execution_count": 15
        }
      ]
    },
    {
      "cell_type": "markdown",
      "source": [
        "```\n",
        "2. Usar `nltk.word_tokenize` para dividir un texto en palabras."
      ],
      "metadata": {
        "id": "DE182G8iRFCC"
      }
    },
    {
      "cell_type": "code",
      "source": [
        "import nltk\n",
        "nltk.download('punkt_tab')\n",
        "from nltk.tokenize import word_tokenize\n",
        "\n",
        "texto = \"Programar estresa mucho   :)\"\n",
        "tokens = word_tokenize(texto)\n",
        "print(tokens)"
      ],
      "metadata": {
        "colab": {
          "base_uri": "https://localhost:8080/"
        },
        "id": "UaV_Hb6nEz0K",
        "outputId": "38ea7545-2e36-4ba5-970e-786704366e03"
      },
      "execution_count": 18,
      "outputs": [
        {
          "output_type": "stream",
          "name": "stdout",
          "text": [
            "['Programar', 'estresa', 'mucho', ':', ')']\n"
          ]
        },
        {
          "output_type": "stream",
          "name": "stderr",
          "text": [
            "[nltk_data] Downloading package punkt_tab to /root/nltk_data...\n",
            "[nltk_data]   Package punkt_tab is already up-to-date!\n"
          ]
        }
      ]
    },
    {
      "cell_type": "markdown",
      "source": [
        "---"
      ],
      "metadata": {
        "id": "klSdyL-tHdwf"
      }
    },
    {
      "cell_type": "markdown",
      "source": [
        "## **3. Trabajar con corpus**\n",
        "Explorar y manipular corpus utilizando NLTK."
      ],
      "metadata": {
        "id": "15eUzI1mD3DW"
      }
    },
    {
      "cell_type": "markdown",
      "source": [
        "### Corpus preinstalados en NLTK:\n",
        "Descargar el corpus `nltk.book`:\n",
        "```python"
      ],
      "metadata": {
        "id": "i-kf47CiHwfT"
      }
    },
    {
      "cell_type": "code",
      "source": [
        "import nltk\n",
        "nltk.download('gutenberg')  # Corpus Gutenberg\n",
        "nltk.download('stopwords') # Palabras vacías\n",
        "\n",
        "from nltk.corpus import gutenberg\n",
        "print(gutenberg.fileids())  # Muestra los archivos disponibles"
      ],
      "metadata": {
        "colab": {
          "base_uri": "https://localhost:8080/"
        },
        "id": "wrEfHCkaHj-y",
        "outputId": "e1acb3a9-0fe7-403e-8c1b-0c2b8cb38bad"
      },
      "execution_count": 19,
      "outputs": [
        {
          "output_type": "stream",
          "name": "stderr",
          "text": [
            "[nltk_data] Downloading package gutenberg to /root/nltk_data...\n"
          ]
        },
        {
          "output_type": "stream",
          "name": "stdout",
          "text": [
            "['austen-emma.txt', 'austen-persuasion.txt', 'austen-sense.txt', 'bible-kjv.txt', 'blake-poems.txt', 'bryant-stories.txt', 'burgess-busterbrown.txt', 'carroll-alice.txt', 'chesterton-ball.txt', 'chesterton-brown.txt', 'chesterton-thursday.txt', 'edgeworth-parents.txt', 'melville-moby_dick.txt', 'milton-paradise.txt', 'shakespeare-caesar.txt', 'shakespeare-hamlet.txt', 'shakespeare-macbeth.txt', 'whitman-leaves.txt']\n"
          ]
        },
        {
          "output_type": "stream",
          "name": "stderr",
          "text": [
            "[nltk_data]   Unzipping corpora/gutenberg.zip.\n",
            "[nltk_data] Downloading package stopwords to /root/nltk_data...\n",
            "[nltk_data]   Unzipping corpora/stopwords.zip.\n"
          ]
        }
      ]
    },
    {
      "cell_type": "markdown",
      "source": [
        "```\n",
        "\n",
        "### Actividad:\n",
        "1. Leer un corpus como *\"Emma\"* de Jane Austen:\n",
        "\n",
        "    ```python"
      ],
      "metadata": {
        "id": "fHpmXUdfIKZn"
      }
    },
    {
      "cell_type": "code",
      "source": [
        "texto = gutenberg.raw('austen-emma.txt')\n",
        "print(texto[:500])  # Muestra las primeras 500 letras"
      ],
      "metadata": {
        "colab": {
          "base_uri": "https://localhost:8080/"
        },
        "id": "Gb9oz7FEIPwI",
        "outputId": "e57326d2-6179-4480-f2ff-771335ae497a"
      },
      "execution_count": 20,
      "outputs": [
        {
          "output_type": "stream",
          "name": "stdout",
          "text": [
            "[Emma by Jane Austen 1816]\n",
            "\n",
            "VOLUME I\n",
            "\n",
            "CHAPTER I\n",
            "\n",
            "\n",
            "Emma Woodhouse, handsome, clever, and rich, with a comfortable home\n",
            "and happy disposition, seemed to unite some of the best blessings\n",
            "of existence; and had lived nearly twenty-one years in the world\n",
            "with very little to distress or vex her.\n",
            "\n",
            "She was the youngest of the two daughters of a most affectionate,\n",
            "indulgent father; and had, in consequence of her sister's marriage,\n",
            "been mistress of his house from a very early period.  Her mother\n",
            "had died t\n"
          ]
        }
      ]
    },
    {
      "cell_type": "markdown",
      "source": [
        "```\n",
        "2. Contar las palabras únicas y su frecuencia.\n",
        "\n",
        "  ```python"
      ],
      "metadata": {
        "id": "gkaA8R2fIflH"
      }
    },
    {
      "cell_type": "code",
      "source": [
        "from collections import Counter\n",
        "tokens = word_tokenize(texto)\n",
        "conteo = Counter(tokens)\n",
        "print(conteo.most_common(10))  # Top 10 palabras más frecuentes"
      ],
      "metadata": {
        "colab": {
          "base_uri": "https://localhost:8080/"
        },
        "id": "yv41Ln1MIhwH",
        "outputId": "aae174ae-e84b-491a-874b-862e7b742512"
      },
      "execution_count": 21,
      "outputs": [
        {
          "output_type": "stream",
          "name": "stdout",
          "text": [
            "[(',', 12016), ('.', 6355), ('to', 5125), ('the', 4844), ('and', 4653), ('of', 4272), ('I', 3177), ('--', 3100), ('a', 3001), (\"''\", 2452)]\n"
          ]
        }
      ]
    },
    {
      "cell_type": "markdown",
      "source": [
        "---"
      ],
      "metadata": {
        "id": "paXu61UdI1r4"
      }
    },
    {
      "cell_type": "markdown",
      "source": [
        "## 4. Tokenización avanzada con expresiones regulares\n",
        "Entender y personalizar tokenización usando expresiones regulares."
      ],
      "metadata": {
        "id": "D9pnE4CDI8K-"
      }
    },
    {
      "cell_type": "markdown",
      "source": [
        "### Ejemplo:"
      ],
      "metadata": {
        "id": "77Xr8RpgJFNa"
      }
    },
    {
      "cell_type": "code",
      "source": [
        "import re\n",
        "from nltk.tokenize import regexp_tokenize\n",
        "\n",
        "texto = \"The price of oil is $123.45 today. U.S.A. stocks fell by 5%...\"\n",
        "pattern = r'''(?x)\n",
        "              (?:[A-Z]\\.)+         # Abreviaciones como U.S.A.\n",
        "              | \\$?\\d+(?:\\.\\d+)?%? # Monedas y porcentajes\n",
        "              | \\w+(?:-\\w+)*       # Palabras con guiones\n",
        "              | \\.\\.\\.             # Elipsis\n",
        "              | [][.,;\"'?():-_`]   # Otros tokens individuales\n",
        "            '''\n",
        "tokens = regexp_tokenize(texto, pattern)\n",
        "print(tokens)"
      ],
      "metadata": {
        "colab": {
          "base_uri": "https://localhost:8080/"
        },
        "id": "dTXCBCvgJCIG",
        "outputId": "03b92873-a7a4-4ef2-aee3-f4b49e498946"
      },
      "execution_count": 22,
      "outputs": [
        {
          "output_type": "stream",
          "name": "stdout",
          "text": [
            "['The', 'price', 'of', 'oil', 'is', '$123.45', 'today', '.', 'U.S.A.', 'stocks', 'fell', 'by', '5%', '...']\n"
          ]
        }
      ]
    },
    {
      "cell_type": "markdown",
      "source": [
        "### Ejercicio:\n",
        "Crear un patrón que reconozca hashtags y menciones de Twitter, como `#NLP` o `@user123`."
      ],
      "metadata": {
        "id": "SXMqYouMJVnp"
      }
    },
    {
      "cell_type": "code",
      "source": [
        "import re\n",
        "from nltk.tokenize import regexp_tokenize\n",
        "\n",
        "texto = \"Juntos con la fuerza #starwars #luk juntos con @George_Lucas\"\n",
        "\n",
        "# Patrón de expresión regular para hashtags y menciones\n",
        "pattern = r'''(?x)\n",
        "              (?:\\#[\\w]+)         # Hashtags como #NLP\n",
        "              | (?:\\@[\\w]+)       # Menciones como @user123\n",
        "            '''\n",
        "\n",
        "tokens = regexp_tokenize(texto, pattern)\n",
        "print(tokens)"
      ],
      "metadata": {
        "colab": {
          "base_uri": "https://localhost:8080/"
        },
        "id": "aJbLaesQI2k0",
        "outputId": "825745c5-1995-4d32-8a1b-f4ca27e98dd5"
      },
      "execution_count": 23,
      "outputs": [
        {
          "output_type": "stream",
          "name": "stdout",
          "text": [
            "['#starwars', '#luk', '@George_Lucas']\n"
          ]
        }
      ]
    },
    {
      "cell_type": "markdown",
      "source": [
        "---"
      ],
      "metadata": {
        "id": "0UzqrklgK75m"
      }
    },
    {
      "cell_type": "markdown",
      "source": [
        "## 5. Stopwords y limpieza de texto\n",
        "Limpiar texto eliminando palabras irrelevantes (\"stopwords\")."
      ],
      "metadata": {
        "id": "OUAb5xflLU3E"
      }
    },
    {
      "cell_type": "markdown",
      "source": [
        "### Ejemplo:\n",
        "```python"
      ],
      "metadata": {
        "id": "n1Pbih7KLcm0"
      }
    },
    {
      "cell_type": "code",
      "source": [
        "from nltk.corpus import stopwords\n",
        "\n",
        "nltk.download('stopwords')\n",
        "stop_words = set(stopwords.words('english'))\n",
        "\n",
        "tokens_limpios = [word for word in tokens if word.lower() not in stop_words]\n",
        "print(tokens_limpios)"
      ],
      "metadata": {
        "colab": {
          "base_uri": "https://localhost:8080/"
        },
        "id": "44ZdBYVyLa09",
        "outputId": "85b96ab1-832e-4321-db5e-5463c898f189"
      },
      "execution_count": 24,
      "outputs": [
        {
          "output_type": "stream",
          "name": "stdout",
          "text": [
            "['#starwars', '#luk', '@George_Lucas']\n"
          ]
        },
        {
          "output_type": "stream",
          "name": "stderr",
          "text": [
            "[nltk_data] Downloading package stopwords to /root/nltk_data...\n",
            "[nltk_data]   Package stopwords is already up-to-date!\n"
          ]
        }
      ]
    },
    {
      "cell_type": "markdown",
      "source": [
        "### Ejercicio:\n",
        "Eliminar stopwords de un texto en español (requiere `stopwords.words('spanish')`)."
      ],
      "metadata": {
        "id": "aK6DeZggMECq"
      }
    },
    {
      "cell_type": "code",
      "source": [
        "from nltk.corpus import stopwords\n",
        "import nltk\n",
        "\n",
        "nltk.download('stopwords')\n",
        "nltk.download('punkt')\n",
        "\n",
        "\n",
        "texto_es = \"La programacion deberia ser eterna forever\"\n",
        "\n",
        "stop_words = set(stopwords.words('spanish'))\n",
        "\n",
        "\n",
        "tokens_limpios = [word for word in texto_es.split() if word.lower() not in stop_words]\n",
        "print(tokens_limpios)\n"
      ],
      "metadata": {
        "colab": {
          "base_uri": "https://localhost:8080/"
        },
        "id": "lDRwkR5XL9Oj",
        "outputId": "7d5ae80e-af9e-45af-c26b-730aaa9bf76d"
      },
      "execution_count": 25,
      "outputs": [
        {
          "output_type": "stream",
          "name": "stdout",
          "text": [
            "['programacion', 'deberia', 'ser', 'eterna', 'forever']\n"
          ]
        },
        {
          "output_type": "stream",
          "name": "stderr",
          "text": [
            "[nltk_data] Downloading package stopwords to /root/nltk_data...\n",
            "[nltk_data]   Package stopwords is already up-to-date!\n",
            "[nltk_data] Downloading package punkt to /root/nltk_data...\n",
            "[nltk_data]   Package punkt is already up-to-date!\n"
          ]
        }
      ]
    },
    {
      "cell_type": "markdown",
      "source": [
        "---"
      ],
      "metadata": {
        "id": "q5xY0dOYMVC2"
      }
    },
    {
      "cell_type": "markdown",
      "source": [
        "## 6. Visualización de frecuencias\n",
        "Crear gráficos de frecuencias de palabras para análisis visual."
      ],
      "metadata": {
        "id": "X-rk6tt6MWPz"
      }
    },
    {
      "cell_type": "markdown",
      "source": [
        "### Ejemplo:\n",
        "```python"
      ],
      "metadata": {
        "id": "qJgEctQeMZ-5"
      }
    },
    {
      "cell_type": "code",
      "source": [
        "import matplotlib.pyplot as plt\n",
        "from collections import Counter\n",
        "\n",
        "frecuencias = Counter(tokens_limpios)\n",
        "palabras, valores = zip(*frecuencias.most_common(10))\n",
        "\n",
        "plt.bar(palabras, valores)\n",
        "plt.title(\"Top 10 palabras más comunes\")\n",
        "plt.xticks(rotation=45)\n",
        "plt.show()"
      ],
      "metadata": {
        "colab": {
          "base_uri": "https://localhost:8080/",
          "height": 517
        },
        "id": "D20UjemjMbaV",
        "outputId": "6ce74e93-f13b-4061-8235-01ec2e2ff0fe"
      },
      "execution_count": 27,
      "outputs": [
        {
          "output_type": "display_data",
          "data": {
            "text/plain": [
              "<Figure size 640x480 with 1 Axes>"
            ],
            "image/png": "[encoded data removed]"
          },
          "metadata": {}
        }
      ]
    },
    {
      "cell_type": "markdown",
      "source": [
        "```"
      ],
      "metadata": {
        "id": "3kmja7ZwMdZi"
      }
    },
    {
      "cell_type": "markdown",
      "source": [
        "### Ejercicio:\n",
        "Crear una **nube de palabras** con la biblioteca `wordcloud`."
      ],
      "metadata": {
        "id": "YEhKc9VCMe_z"
      }
    },
    {
      "cell_type": "code",
      "source": [
        "from wordcloud import WordCloud\n",
        "import matplotlib.pyplot as plt\n",
        "\n",
        "nube_palabras = WordCloud(width=800, height=400, background_color='white').generate(' '.join(tokens_limpios))\n",
        "\n",
        "plt.imshow(nube_palabras, interpolation='bilinear')\n",
        "plt.axis('off')\n",
        "plt.title(\"Nube de palabras\")\n",
        "plt.show()\n"
      ],
      "metadata": {
        "colab": {
          "base_uri": "https://localhost:8080/",
          "height": 307
        },
        "id": "cSbKdoRzMhhC",
        "outputId": "569b8a00-ed7e-4360-9c5e-b3cf7ccd6e48"
      },
      "execution_count": 26,
      "outputs": [
        {
          "output_type": "display_data",
          "data": {
            "text/plain": [
              "<Figure size 640x480 with 1 Axes>"
            ],
            "image/png": "[encoded data removed]"
          },
          "metadata": {}
        }
      ]
    },
    {
      "cell_type": "markdown",
      "source": [
        "---"
      ],
      "metadata": {
        "id": "sZJxI2OJM_TB"
      }
    },
    {
      "cell_type": "markdown",
      "source": [
        "## 7. Análisis de concordancia\n",
        "Buscar patrones de palabras en contexto."
      ],
      "metadata": {
        "id": "R1p7cMfDNEUA"
      }
    },
    {
      "cell_type": "markdown",
      "source": [
        "### Ejemplo:\n",
        "```python"
      ],
      "metadata": {
        "id": "JB9pObP3NI2z"
      }
    },
    {
      "cell_type": "code",
      "source": [
        "from nltk.text import Text\n",
        "\n",
        "text = Text(word_tokenize(texto))\n",
        "text.concordance(\"love\")  # Encuentra frases que contienen \"love\""
      ],
      "metadata": {
        "colab": {
          "base_uri": "https://localhost:8080/"
        },
        "id": "LKXckQ7lNKZM",
        "outputId": "f86f1fb4-ab6d-46e9-d234-548aa476ae5f"
      },
      "execution_count": 28,
      "outputs": [
        {
          "output_type": "stream",
          "name": "stdout",
          "text": [
            "no matches\n"
          ]
        }
      ]
    },
    {
      "cell_type": "markdown",
      "source": [
        "```"
      ],
      "metadata": {
        "id": "RjHcnoIqNN62"
      }
    },
    {
      "cell_type": "markdown",
      "source": [
        "### Ejercicio:\n",
        "Buscar varias palabras relacionadas y comparar sus contextos."
      ],
      "metadata": {
        "id": "qxboMB2ANSMD"
      }
    },
    {
      "cell_type": "code",
      "source": [
        "from nltk.text import Text\n",
        "\n",
        "texto = \"i love python. i don't like java\"\n",
        "\n",
        "text = Text(word_tokenize(texto))\n",
        "text.concordance(\"love\")\n"
      ],
      "metadata": {
        "colab": {
          "base_uri": "https://localhost:8080/"
        },
        "id": "sPqMQN5ENWz-",
        "outputId": "3702a5de-1676-4cff-db3f-1be12bac9550"
      },
      "execution_count": 32,
      "outputs": [
        {
          "output_type": "stream",
          "name": "stdout",
          "text": [
            "Displaying 1 of 1 matches:\n",
            "                                   i love python . i do n't like java\n"
          ]
        }
      ]
    },
    {
      "cell_type": "markdown",
      "source": [
        "---"
      ],
      "metadata": {
        "id": "K2XqP-x8NUtf"
      }
    },
    {
      "cell_type": "markdown",
      "source": [
        "## 8. Extensiones futuras\n",
        "- **Trabajar con datos reales:** Descarga un texto desde la web usando `requests` o `BeautifulSoup`.\n",
        "- **Introducir conceptos básicos de stemming y lematización:**\n",
        "\n",
        "```python"
      ],
      "metadata": {
        "id": "isMhVIiAOC3J"
      }
    },
    {
      "cell_type": "code",
      "source": [
        "from nltk.stem import PorterStemmer\n",
        "stemmer = PorterStemmer()\n",
        "print(stemmer.stem(\"running\"))  # Resultado: run"
      ],
      "metadata": {
        "id": "bNBt3eVkONzO"
      },
      "execution_count": null,
      "outputs": []
    },
    {
      "cell_type": "markdown",
      "source": [
        "```"
      ],
      "metadata": {
        "id": "77bMD2tQOgCl"
      }
    },
    {
      "cell_type": "markdown",
      "source": [
        "### Ejercicio:\n",
        "Probar diferentes algoritmos de stemming y comparar resultados."
      ],
      "metadata": {
        "id": "9F3X0CIYOi1s"
      }
    },
    {
      "cell_type": "code",
      "source": [
        "from nltk.stem import PorterStemmer, LancasterStemmer\n",
        "\n",
        "\n",
        "porter_stemmer = PorterStemmer()\n",
        "lancaster_stemmer = LancasterStemmer()\n",
        "\n",
        "\n",
        "print(porter_stemmer.stem(\"running\"))  # Resultado: run\n",
        "print(lancaster_stemmer.stem(\"running\"))  # Resultado: run\n",
        "\n"
      ],
      "metadata": {
        "colab": {
          "base_uri": "https://localhost:8080/"
        },
        "id": "CDfQBsGwOkk8",
        "outputId": "e2f5eb3c-24fd-49c9-85f7-4a1ff012cdcf"
      },
      "execution_count": 34,
      "outputs": [
        {
          "output_type": "stream",
          "name": "stdout",
          "text": [
            "run\n",
            "run\n"
          ]
        }
      ]
    },
    {
      "cell_type": "markdown",
      "source": [
        "---"
      ],
      "metadata": {
        "id": "Pshjcqr_PsC0"
      }
    }
  ]
}